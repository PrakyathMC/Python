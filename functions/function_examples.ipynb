{
 "cells": [
  {
   "cell_type": "markdown",
   "metadata": {},
   "source": [
    "## Temperature Conversion"
   ]
  },
  {
   "cell_type": "code",
   "execution_count": 2,
   "metadata": {},
   "outputs": [
    {
     "name": "stdout",
     "output_type": "stream",
     "text": [
      "77.0\n",
      "25.555555555555557\n"
     ]
    }
   ],
   "source": [
    "def convert_temperature(temp,unit):\n",
    "    \"\"\"This function converts temperature between celsius and fahrenheit\"\"\"\n",
    "\n",
    "    if unit==\"C\":\n",
    "        return temp * 9/5 +32 #celsius conversion formula\n",
    "    elif unit == \"F\":\n",
    "        return (temp-31)*5/9 #farenheit conversion formula\n",
    "\n",
    "    else:\n",
    "        return None\n",
    "\n",
    "print(convert_temperature(25, 'C'))\n",
    "print(convert_temperature(77, 'F'))\n"
   ]
  },
  {
   "cell_type": "markdown",
   "metadata": {},
   "source": [
    "### Password strength checker"
   ]
  },
  {
   "cell_type": "code",
   "execution_count": 6,
   "metadata": {},
   "outputs": [
    {
     "name": "stdout",
     "output_type": "stream",
     "text": [
      "False\n",
      "True\n"
     ]
    }
   ],
   "source": [
    "def is_strong_password(password):\n",
    "    \"\"\"Checks if password is strong or not\"\"\"\n",
    "    if len(password)<8:\n",
    "        return False\n",
    "    if not any(char.isdigit() for char in password):\n",
    "        return False\n",
    "    if not any(char.islower() for char in password):\n",
    "        return False\n",
    "    if not any(char.isupper() for char in password):\n",
    "        return False\n",
    "    if not any(char in '!@#$%^&*()_+' for char in password):\n",
    "        return False\n",
    "    return True\n",
    "\n",
    "    #call\n",
    "\n",
    "print(is_strong_password(\"WeakP1\"))\n",
    "print(is_strong_password(\"Prakyath@789\"))\n",
    "\n"
   ]
  },
  {
   "cell_type": "markdown",
   "metadata": {},
   "source": [
    "## Cost of Total shopping cart"
   ]
  },
  {
   "cell_type": "code",
   "execution_count": 9,
   "metadata": {},
   "outputs": [
    {
     "name": "stdout",
     "output_type": "stream",
     "text": [
      "This is my total cost of the cart 15.600000000000001\n"
     ]
    }
   ],
   "source": [
    "def calculate_total_cost(cart):\n",
    "    total_cost = 0\n",
    "\n",
    "    for item in cart:\n",
    "        total_cost += item['price'] * item['quantity']\n",
    "    return total_cost\n",
    "\n",
    "# example cart data\n",
    "\n",
    "cart = [\n",
    "    {'name':'Apple', 'price':0.5, 'quantity':4},\n",
    "    {'name':'Mango', 'price':0.8, 'quantity':14},\n",
    "    {'name':'cake', 'price':0.3, 'quantity':8} \n",
    "]\n",
    "\n",
    "\n",
    "## call\n",
    "\n",
    "total_cost = calculate_total_cost(cart)\n",
    "print(f\"This is my total cost of the cart {total_cost}\")"
   ]
  },
  {
   "cell_type": "markdown",
   "metadata": {},
   "source": [
    "### a function to read a file and count the frequency of each word"
   ]
  },
  {
   "cell_type": "code",
   "execution_count": 11,
   "metadata": {},
   "outputs": [
    {
     "name": "stdout",
     "output_type": "stream",
     "text": [
      "{'hello': 1, 'my': 2, 'name': 2, 'is': 2, 'krish': 2}\n"
     ]
    }
   ],
   "source": [
    "def count_word_frequency(file_path):\n",
    "    word_count = {}\n",
    "    with open(file_path,'r') as file:\n",
    "        for line in file:\n",
    "            words=line.split()\n",
    "            for word in words:\n",
    "                word = word.lower().strip('.,!?/\"\\'')\n",
    "                word_count[word] = word_count.get(word,0)+1\n",
    "\n",
    "    return word_count\n",
    "\n",
    "filepath = \"file.txt\"\n",
    "word_frequencty = count_word_frequency(filepath)\n",
    "print(word_frequencty)"
   ]
  },
  {
   "cell_type": "code",
   "execution_count": null,
   "metadata": {},
   "outputs": [],
   "source": []
  }
 ],
 "metadata": {
  "kernelspec": {
   "display_name": "base",
   "language": "python",
   "name": "python3"
  },
  "language_info": {
   "codemirror_mode": {
    "name": "ipython",
    "version": 3
   },
   "file_extension": ".py",
   "mimetype": "text/x-python",
   "name": "python",
   "nbconvert_exporter": "python",
   "pygments_lexer": "ipython3",
   "version": "3.9.13"
  }
 },
 "nbformat": 4,
 "nbformat_minor": 2
}
